{
 "cells": [
  {
   "cell_type": "markdown",
   "metadata": {},
   "source": [
    "# Project Description"
   ]
  },
  {
   "cell_type": "markdown",
   "metadata": {},
   "source": [
    "## PYTHON PATROLLING GAME \n",
    "\n",
    "Inspired by the espirit de Corps from being a Marine, I decided to code a simple text input game based off of patrolling tactics outlined in the U.S. Marine Corps publication RP0501 Patrolling Tactics. This game has multiple purposes with the ability to serve as entertainment or to be used as a training tool for Marines. To elaborate on the latter, I designed this game with the idea that it can be used to train Marines to quicker recognize which type of squad formation to call for when encountering a specific ambush from opposing forces. It is also useful in analyzing the reaction and decision times for the player over multiple games since each play will return a list of time measurements for each decision that was made.\n",
    "\n",
    "### GAME PLAY\n",
    "\n",
    "#### Introduction \n",
    "A background message informing the player that they are a Lieutenant (Lt) who was tasked to lead a patrol with 13 Marines is displayed, then prompts the player for an input to begin. The player has the option to input 'quit' to leave the game at this stage. \n",
    "\n",
    "#### Tactics Refresher\n",
    "The player, as the Lt, will be shown a statement in the format 'Name of Squad Tactic': 'What direction of fire it allows'\n",
    "(Ex. Column: Permits fire and maneuver to the flanks).This part of the game serves as a review for the patrolling portion.\n",
    "1. The player will have to input 'T' or 'F' depending on if they think that tactic will allow the specified direction of fire.\n",
    "2. The player also has the option to input 'quit' to leave the game at this stage. \n",
    "\n",
    "\n",
    "#### Head Count\n",
    "The statement 'You begin your head count...enter x for each Marine:' is displayed next and prompts the player for an input. This part of the game serves to mimic a real-life conversation where it doesn't matter what the player says as the right count is confirmed by the correspondent at the end. \n",
    "1. The player is expected to input 'xxxxxxxxxxxxx' to account for each Marine that was mentioned in the first message. When the player inputs the correct number of x's on the first try, then it will continue to the patrolling portion.\n",
    "2. If the player inputs anything else, then the player will be prompted a second time for the right input. Game will continue whether second input is right or wrong.\n",
    "3. The player is not able to quit in this transitional portion of the game.\n",
    "\n",
    "\n",
    "#### Patrolling\n",
    "A randomly generated ambush scenario is displayed, followed by the options that the player has, and prompts the player to choose a squad formation. Each time the player inputs a decision, the time it took to make the decision and the results are displayed. If the player reaches 0 Marines, a statement and a list of all the decision times are displayed. \n",
    "1. When the player inputs the correct squad formation to address the ambush, then the threat is eliminated and the player retains all his Marines. \n",
    "2. When the player inputs the incorrect squad formation to address the ambush, then the player loses a randomly generated number of Marines. \n",
    "3. When the player inputs something other than the options, a statement would remind the player that they need to use the right terminology.\n",
    "4. The player also has the option to input 'quit' to leave the game at this stage. \n"
   ]
  },
  {
   "cell_type": "markdown",
   "metadata": {},
   "source": [
    "## Project Code\n",
    "\n",
    "If it makes sense for your project, you can have code and outputs here in the notebook as well."
   ]
  },
  {
   "cell_type": "code",
   "execution_count": 1,
   "metadata": {},
   "outputs": [],
   "source": [
    "import time\n",
    "import random\n",
    "from IPython.display import clear_output\n",
    "\n",
    "from my_module.functions import (type_msg, opening_msg, end_game, refresher, start_training,\n",
    "                                 head_count,after_action, patrolling, start_game)\n",
    "\n",
    "from my_module.test_functions import test_end_game, test_refresher, test_head_count, test_after_action"
   ]
  },
  {
   "cell_type": "code",
   "execution_count": 2,
   "metadata": {},
   "outputs": [],
   "source": [
    "# Run this cell to play game\n",
    "start_game()"
   ]
  },
  {
   "cell_type": "code",
   "execution_count": 5,
   "metadata": {},
   "outputs": [
    {
     "name": "stdout",
     "output_type": "stream",
     "text": [
      "\u001b[1m============================= test session starts ==============================\u001b[0m\n",
      "platform linux -- Python 3.9.5, pytest-7.2.2, pluggy-1.0.0\n",
      "rootdir: /home/yvng/Final_Project_COGS18_SP23\n",
      "plugins: anyio-3.2.1\n",
      "collected 4 items                                                              \u001b[0m\n",
      "\n",
      "my_module/test_functions.py \u001b[32m.\u001b[0m\u001b[32m.\u001b[0m\u001b[32m.\u001b[0m\u001b[32m.\u001b[0m\u001b[32m                                         [100%]\u001b[0m\n",
      "\n",
      "\u001b[32m============================== \u001b[32m\u001b[1m4 passed\u001b[0m\u001b[32m in 19.28s\u001b[0m\u001b[32m ==============================\u001b[0m\n"
     ]
    }
   ],
   "source": [
    "# test it out (takes approximately 20 seconds)\n",
    "!pytest"
   ]
  },
  {
   "cell_type": "markdown",
   "metadata": {},
   "source": [
    "#### Extra Credit (*optional*)\n",
    "\n",
    "Prior to COGS 18, I had zero coding experience. My project challenged me to combine everything I learned in the course in addition to my internet research on how to create a small ecosystem of functions embedded within one another to make a simple text game that has real life applications. I have well surpassed the minimum numerical requirements for functions, test functions and have spent probably anywhere between 12-15 hours figuring everything out as a struggling beginner. "
   ]
  }
 ],
 "metadata": {
  "kernelspec": {
   "display_name": "Python 3 (ipykernel)",
   "language": "python",
   "name": "python3"
  },
  "language_info": {
   "codemirror_mode": {
    "name": "ipython",
    "version": 3
   },
   "file_extension": ".py",
   "mimetype": "text/x-python",
   "name": "python",
   "nbconvert_exporter": "python",
   "pygments_lexer": "ipython3",
   "version": "3.9.5"
  }
 },
 "nbformat": 4,
 "nbformat_minor": 2
}
